{
 "cells": [
  {
   "cell_type": "code",
   "execution_count": 1,
   "metadata": {},
   "outputs": [],
   "source": [
    "import pandas as pd\n",
    "import numpy as np"
   ]
  },
  {
   "cell_type": "code",
   "execution_count": 2,
   "metadata": {},
   "outputs": [
    {
     "name": "stderr",
     "output_type": "stream",
     "text": [
      "/Users/eliaspedersen/anaconda3/lib/python3.6/site-packages/IPython/core/interactiveshell.py:2728: DtypeWarning: Columns (17) have mixed types. Specify dtype option on import or set low_memory=False.\n",
      "  interactivity=interactivity, compiler=compiler, result=result)\n"
     ]
    }
   ],
   "source": [
    "nypd_filepath = '/Users/eliaspedersen/Documents/PythonProjects/NYPD_Complaint_Data_Historic.csv'\n",
    "nypd = pd.read_csv(nypd_filepath)"
   ]
  },
  {
   "cell_type": "code",
   "execution_count": 3,
   "metadata": {},
   "outputs": [
    {
     "name": "stdout",
     "output_type": "stream",
     "text": [
      "CMPLNT_NUM                               441284640\n",
      "CMPLNT_FR_DT                            12/31/2015\n",
      "CMPLNT_FR_TM                              20:25:00\n",
      "CMPLNT_TO_DT                            12/31/2015\n",
      "CMPLNT_TO_TM                              21:25:00\n",
      "RPT_DT                                  12/31/2015\n",
      "KY_CD                                          344\n",
      "OFNS_DESC             ASSAULT 3 & RELATED OFFENSES\n",
      "PD_CD                                          114\n",
      "PD_DESC                        OBSTR BREATH/CIRCUL\n",
      "CRM_ATPT_CPTD_CD                         COMPLETED\n",
      "LAW_CAT_CD                             MISDEMEANOR\n",
      "JURIS_DESC                        N.Y. POLICE DEPT\n",
      "BORO_NM                                  MANHATTAN\n",
      "ADDR_PCT_CD                                     28\n",
      "LOC_OF_OCCUR_DESC                           INSIDE\n",
      "PREM_TYP_DESC               RESIDENCE - APT. HOUSE\n",
      "PARKS_NM                                       NaN\n",
      "HADEVELOPT                                     NaN\n",
      "X_COORD_CD                                  997020\n",
      "Y_COORD_CD                                  230319\n",
      "Latitude                                   40.7988\n",
      "Longitude                                 -73.9539\n",
      "Lat_Lon              (40.798847456, -73.953878662)\n",
      "Name: 100, dtype: object\n"
     ]
    }
   ],
   "source": [
    "print (nypd.iloc[100])"
   ]
  },
  {
   "cell_type": "code",
   "execution_count": 4,
   "metadata": {
    "scrolled": true
   },
   "outputs": [
    {
     "name": "stdout",
     "output_type": "stream",
     "text": [
      "1            QUEENS\n",
      "2         MANHATTAN\n",
      "3            QUEENS\n",
      "4         MANHATTAN\n",
      "5          BROOKLYN\n",
      "6         MANHATTAN\n",
      "7             BRONX\n",
      "8             BRONX\n",
      "9         MANHATTAN\n",
      "10            BRONX\n",
      "11        MANHATTAN\n",
      "12        MANHATTAN\n",
      "13        MANHATTAN\n",
      "14         BROOKLYN\n",
      "15           QUEENS\n",
      "16        MANHATTAN\n",
      "17            BRONX\n",
      "18         BROOKLYN\n",
      "19           QUEENS\n",
      "20         BROOKLYN\n",
      "21           QUEENS\n",
      "22           QUEENS\n",
      "23         BROOKLYN\n",
      "24         BROOKLYN\n",
      "25         BROOKLYN\n",
      "26         BROOKLYN\n",
      "27         BROOKLYN\n",
      "28         BROOKLYN\n",
      "29    STATEN ISLAND\n",
      "30            BRONX\n",
      "          ...      \n",
      "70         BROOKLYN\n",
      "71           QUEENS\n",
      "72           QUEENS\n",
      "73           QUEENS\n",
      "74            BRONX\n",
      "75            BRONX\n",
      "76         BROOKLYN\n",
      "77         BROOKLYN\n",
      "78           QUEENS\n",
      "79         BROOKLYN\n",
      "80           QUEENS\n",
      "81            BRONX\n",
      "82           QUEENS\n",
      "83           QUEENS\n",
      "84           QUEENS\n",
      "85           QUEENS\n",
      "86         BROOKLYN\n",
      "87         BROOKLYN\n",
      "88         BROOKLYN\n",
      "89        MANHATTAN\n",
      "90         BROOKLYN\n",
      "91            BRONX\n",
      "92            BRONX\n",
      "93            BRONX\n",
      "94           QUEENS\n",
      "95    STATEN ISLAND\n",
      "96    STATEN ISLAND\n",
      "97    STATEN ISLAND\n",
      "98           QUEENS\n",
      "99        MANHATTAN\n",
      "Name: BORO_NM, Length: 99, dtype: object\n"
     ]
    }
   ],
   "source": [
    "crimeBorough = nypd.loc[:,\"BORO_NM\"]\n",
    "print(crimeBorough.iloc[1:100])"
   ]
  },
  {
   "cell_type": "code",
   "execution_count": 5,
   "metadata": {},
   "outputs": [
    {
     "name": "stdout",
     "output_type": "stream",
     "text": [
      "BROOKLYN         1666903\n",
      "MANHATTAN        1331760\n",
      "BRONX            1209647\n",
      "QUEENS           1105621\n",
      "STATEN ISLAND     265641\n",
      "Name: BORO_NM, dtype: int64\n"
     ]
    }
   ],
   "source": [
    "crimeOccurences = crimeBorough.value_counts()\n",
    "print(crimeOccurences)"
   ]
  },
  {
   "cell_type": "code",
   "execution_count": 6,
   "metadata": {},
   "outputs": [
    {
     "name": "stdout",
     "output_type": "stream",
     "text": [
      "BROOKLYN         0.298751\n",
      "MANHATTAN        0.238685\n",
      "BRONX            0.216799\n",
      "QUEENS           0.198155\n",
      "STATEN ISLAND    0.047610\n",
      "Name: BORO_NM, dtype: float64\n"
     ]
    }
   ],
   "source": [
    "nCrimes = np.sum(crimeOccurences)\n",
    "perCrimes = crimeOccurences/nCrimes\n",
    "print(perCrimes)\n"
   ]
  },
  {
   "cell_type": "code",
   "execution_count": 7,
   "metadata": {},
   "outputs": [],
   "source": [
    "#Remove null values\n",
    "nypd = nypd[pd.notnull(nypd['CMPLNT_FR_DT'])]\n",
    "#Find all entries for 2016\n",
    "nypd2016 = nypd.loc[nypd['CMPLNT_FR_DT'].str.contains('2016')]\n",
    "#Descriptions for crime types\n",
    "#nypd2016.PD_DESC.unique()"
   ]
  },
  {
   "cell_type": "code",
   "execution_count": 23,
   "metadata": {},
   "outputs": [],
   "source": [
    "nypd2016 = nypd2016.assign(make = '')\n",
    "nypd2016.loc[nypd2016['make'] == '', 'make'] = nypd2016['OFNS_DESC'].str.split(',').str.get(0)"
   ]
  },
  {
   "cell_type": "code",
   "execution_count": 24,
   "metadata": {},
   "outputs": [
    {
     "data": {
      "text/plain": [
       "array(['ASSAULT & RELATED OFFENSES', 'DANGEROUS DRUGS', 'ROBBERY',\n",
       "       'FELONY ASSAULT', 'MISCELLANEOUS PENAL LAW',\n",
       "       'VEHICLE AND TRAFFIC LAWS', 'DANGEROUS WEAPONS', 'PETIT LARCENY',\n",
       "       'GRAND LARCENY', 'CRIMINAL MISCHIEF & RELATED OF', 'HARRASSMENT',\n",
       "       'BURGLARY', 'UNAUTHORIZED USE OF A VEHICLE',\n",
       "       'OFFENSES INVOLVING FRAUD', 'OFF. AGNST PUB ORD SENSBLTY &',\n",
       "       'OFFENSES AGAINST PUBLIC ADMINI', 'CRIMINAL TRESPASS',\n",
       "       'INTOXICATED & IMPAIRED DRIVING', 'FORGERY',\n",
       "       'OFFENSES AGAINST THE PERSON', 'SEX CRIMES', \"BURGLAR'S TOOLS\",\n",
       "       'RAPE', 'THEFT-FRAUD', 'GRAND LARCENY OF MOTOR VEHICLE',\n",
       "       'OTHER OFFENSES RELATED TO THEF', 'FRAUDULENT ACCOSTING', 'FRAUDS',\n",
       "       'OFFENSES AGAINST PUBLIC SAFETY', 'NYS LAWS-UNCLASSIFIED FELONY',\n",
       "       'POSSESSION OF STOLEN PROPERTY', 'GAMBLING', 'ADMINISTRATIVE CODE',\n",
       "       'AGRICULTURE & MRKTS LAW-UNCLASSIFIED', 'JOSTLING', 'ARSON',\n",
       "       'OTHER STATE LAWS (NON PENAL LA', 'ESCAPE',\n",
       "       'PROSTITUTION & RELATED OFFENSES', 'DISORDERLY CONDUCT',\n",
       "       'OFFENSES RELATED TO CHILDREN', 'THEFT OF SERVICES',\n",
       "       'UNLAWFUL POSS. WEAP. ON SCHOOL', nan,\n",
       "       'KIDNAPPING & RELATED OFFENSES', 'ALCOHOLIC BEVERAGE CONTROL LAW',\n",
       "       'PETIT LARCENY OF MOTOR VEHICLE', 'CHILD ABANDONMENT/NON SUPPORT',\n",
       "       'ENDAN WELFARE INCOMP', 'OTHER STATE LAWS (NON PENAL LAW)',\n",
       "       'OTHER STATE LAWS', 'KIDNAPPING', 'INTOXICATED/IMPAIRED DRIVING',\n",
       "       'LOITERING/GAMBLING (CARDS', 'LOITERING',\n",
       "       'NYS LAWS-UNCLASSIFIED VIOLATION', 'ANTICIPATORY OFFENSES',\n",
       "       'HOMICIDE-NEGLIGENT-VEHICLE', 'NEW YORK CITY HEALTH CODE',\n",
       "       'DISRUPTION OF A RELIGIOUS SERV', 'HOMICIDE-NEGLIGENT',\n",
       "       'ADMINISTRATIVE CODES'], dtype=object)"
      ]
     },
     "execution_count": 24,
     "metadata": {},
     "output_type": "execute_result"
    }
   ],
   "source": [
    "vals_to_replace = {' 3' : '', ' 2': '', ' 1': ''}\n",
    "nypd2016['make']=nypd2016['make'].str.replace(' 1' , '')\n",
    "nypd2016['make']=nypd2016['make'].str.replace(' 2' , '')\n",
    "nypd2016['make']=nypd2016['make'].str.replace(' 3' , '')\n",
    "nypd2016.make.unique()"
   ]
  },
  {
   "cell_type": "code",
   "execution_count": 27,
   "metadata": {},
   "outputs": [
    {
     "name": "stdout",
     "output_type": "stream",
     "text": [
      "PETIT LARCENY                           79775\n",
      "HARRASSMENT                             64946\n",
      "ASSAULT & RELATED OFFENSES              52182\n",
      "CRIMINAL MISCHIEF & RELATED OF          47940\n",
      "GRAND LARCENY                           42101\n",
      "DANGEROUS DRUGS                         22613\n",
      "OFF. AGNST PUB ORD SENSBLTY &           22003\n",
      "FELONY ASSAULT                          20668\n",
      "ROBBERY                                 15458\n",
      "MISCELLANEOUS PENAL LAW                 13663\n",
      "BURGLARY                                12836\n",
      "DANGEROUS WEAPONS                       10446\n",
      "OFFENSES AGAINST PUBLIC ADMINI           8825\n",
      "VEHICLE AND TRAFFIC LAWS                 6558\n",
      "GRAND LARCENY OF MOTOR VEHICLE           6247\n",
      "FORGERY                                  6012\n",
      "INTOXICATED & IMPAIRED DRIVING           5951\n",
      "SEX CRIMES                               5507\n",
      "THEFT-FRAUD                              3935\n",
      "CRIMINAL TRESPASS                        3917\n",
      "FRAUDS                                   3060\n",
      "OTHER OFFENSES RELATED TO THEF           1708\n",
      "UNAUTHORIZED USE OF A VEHICLE            1689\n",
      "POSSESSION OF STOLEN PROPERTY            1674\n",
      "OFFENSES INVOLVING FRAUD                 1230\n",
      "OFFENSES AGAINST THE PERSON              1215\n",
      "RAPE                                     1141\n",
      "ADMINISTRATIVE CODE                       991\n",
      "ARSON                                     745\n",
      "NYS LAWS-UNCLASSIFIED FELONY              536\n",
      "                                        ...  \n",
      "GAMBLING                                  267\n",
      "BURGLAR'S TOOLS                           263\n",
      "OTHER STATE LAWS (NON PENAL LA            229\n",
      "FRAUDULENT ACCOSTING                      212\n",
      "AGRICULTURE & MRKTS LAW-UNCLASSIFIED      136\n",
      "KIDNAPPING & RELATED OFFENSES             132\n",
      "PROSTITUTION & RELATED OFFENSES           125\n",
      "OFFENSES RELATED TO CHILDREN              107\n",
      "ALCOHOLIC BEVERAGE CONTROL LAW             96\n",
      "DISORDERLY CONDUCT                         71\n",
      "OFFENSES AGAINST PUBLIC SAFETY             56\n",
      "JOSTLING                                   49\n",
      "PETIT LARCENY OF MOTOR VEHICLE             37\n",
      "ENDAN WELFARE INCOMP                       31\n",
      "CHILD ABANDONMENT/NON SUPPORT              21\n",
      "OTHER STATE LAWS                           19\n",
      "NYS LAWS-UNCLASSIFIED VIOLATION            14\n",
      "LOITERING/GAMBLING (CARDS                  10\n",
      "ESCAPE                                      8\n",
      "KIDNAPPING                                  7\n",
      "NEW YORK CITY HEALTH CODE                   4\n",
      "OTHER STATE LAWS (NON PENAL LAW)            4\n",
      "UNLAWFUL POSS. WEAP. ON SCHOOL              3\n",
      "HOMICIDE-NEGLIGENT                          3\n",
      "ANTICIPATORY OFFENSES                       2\n",
      "DISRUPTION OF A RELIGIOUS SERV              2\n",
      "INTOXICATED/IMPAIRED DRIVING                1\n",
      "ADMINISTRATIVE CODES                        1\n",
      "HOMICIDE-NEGLIGENT-VEHICLE                  1\n",
      "LOITERING                                   1\n",
      "Name: make, Length: 61, dtype: int64\n",
      "CMPLNT_NUM                               155423129\n",
      "CMPLNT_FR_DT                            12/31/2016\n",
      "CMPLNT_FR_TM                              23:40:00\n",
      "CMPLNT_TO_DT                            12/31/2016\n",
      "CMPLNT_TO_TM                              23:50:00\n",
      "RPT_DT                                  12/31/2016\n",
      "KY_CD                                          105\n",
      "OFNS_DESC                                  ROBBERY\n",
      "PD_CD                                          389\n",
      "PD_DESC                           ROBBERY,DWELLING\n",
      "CRM_ATPT_CPTD_CD                         COMPLETED\n",
      "LAW_CAT_CD                                  FELONY\n",
      "JURIS_DESC                        N.Y. POLICE DEPT\n",
      "BORO_NM                                      BRONX\n",
      "ADDR_PCT_CD                                     43\n",
      "LOC_OF_OCCUR_DESC                           INSIDE\n",
      "PREM_TYP_DESC               RESIDENCE - APT. HOUSE\n",
      "PARKS_NM                                       NaN\n",
      "HADEVELOPT                                     NaN\n",
      "X_COORD_CD                             1.02117e+06\n",
      "Y_COORD_CD                                  241240\n",
      "Latitude                                   40.8288\n",
      "Longitude                                 -73.8666\n",
      "Lat_Lon              (40.828754623, -73.866593516)\n",
      "make                                       ROBBERY\n",
      "Name: 5101233, dtype: object\n"
     ]
    }
   ],
   "source": [
    "crimeTypeOccurences = nypd2016.loc[:,\"make\"].value_counts()\n",
    "print(crimeTypeOccurences)\n",
    "print(nypd2016.iloc[2])"
   ]
  },
  {
   "cell_type": "code",
   "execution_count": 57,
   "metadata": {},
   "outputs": [],
   "source": [
    "#Choose only top 5 crimes\n",
    "crimes = {'PETIT LARCENY', 'HARRASSMENT', 'ASSAULT & RELATED OFFENSES', 'CRIMINAL MISCHIEF & RELATED OF', 'GRAND LARCENY'}\n",
    "#remove NaN values\n",
    "nypd2016 = nypd2016[pd.notnull(nypd2016['make'])]\n",
    "nypd2016filter = nypd2016.loc[nypd2016['make'].isin(crimes)]"
   ]
  },
  {
   "cell_type": "code",
   "execution_count": 58,
   "metadata": {},
   "outputs": [],
   "source": [
    "#Make column with months\n",
    "nypd2016filter = nypd2016filter.assign(mon = '')\n",
    "nypd2016filter.loc[nypd2016filter['mon'] == '', 'mon'] = nypd2016filter['CMPLNT_FR_DT'].str.split('/').str.get(0)"
   ]
  },
  {
   "cell_type": "code",
   "execution_count": 80,
   "metadata": {},
   "outputs": [],
   "source": [
    "group = nypd2016filter.groupby([\"mon\", \"make\"]).size()\n",
    "offenseMonth = pd.DataFrame({'count' : nypd2016filter.groupby( [ \"mon\", \"make\"] ).size()}).reset_index()"
   ]
  },
  {
   "cell_type": "code",
   "execution_count": 82,
   "metadata": {},
   "outputs": [],
   "source": [
    "offenseMonth.pivot(index='mon', columns='make', values='count').to_csv(\"offenseMonth.csv\")"
   ]
  },
  {
   "cell_type": "code",
   "execution_count": null,
   "metadata": {},
   "outputs": [],
   "source": []
  },
  {
   "cell_type": "code",
   "execution_count": null,
   "metadata": {},
   "outputs": [],
   "source": []
  }
 ],
 "metadata": {
  "kernelspec": {
   "display_name": "Python 3",
   "language": "python",
   "name": "python3"
  },
  "language_info": {
   "codemirror_mode": {
    "name": "ipython",
    "version": 3
   },
   "file_extension": ".py",
   "mimetype": "text/x-python",
   "name": "python",
   "nbconvert_exporter": "python",
   "pygments_lexer": "ipython3",
   "version": "3.6.4"
  }
 },
 "nbformat": 4,
 "nbformat_minor": 2
}
